{
  "nbformat": 4,
  "nbformat_minor": 0,
  "metadata": {
    "colab": {
      "name": "GPT-2 Lang Branch demo.ipynb",
      "provenance": []
    },
    "kernelspec": {
      "name": "python3",
      "display_name": "Python 3"
    },
    "language_info": {
      "name": "python"
    },
    "accelerator": "GPU",
    "gpuClass": "standard"
  },
  "cells": [
    {
      "cell_type": "markdown",
      "source": [
        "Welcome to the Language-Branch GPT-2 notebook! Here you can set a prompt and GPT-2 will generate many, many variations of how the sentence can go."
      ],
      "metadata": {
        "id": "Ab6xxcRNe7RA"
      }
    },
    {
      "cell_type": "code",
      "source": [
        "!pip install transformers"
      ],
      "metadata": {
        "id": "KjpOkFdqcmbY"
      },
      "execution_count": null,
      "outputs": []
    },
    {
      "cell_type": "code",
      "source": [
        "import json\n",
        "import math\n",
        "import torch\n",
        "from transformers import GPT2Tokenizer, GPT2LMHeadModel"
      ],
      "metadata": {
        "id": "lNI5KhwOcf6j"
      },
      "execution_count": 2,
      "outputs": []
    },
    {
      "cell_type": "code",
      "source": [
        "#@title Select your GPT model, you can find more gpt-2 models for other langs and stuff at huggingface.co\n",
        "model_name = \"distilgpt2\" #@param [\"gpt2\", \"distilgpt2\", \"gpt2-large\", \"gpt2-xl\", \"sshleifer/tiny-gpt2\"] {allow-input: true}"
      ],
      "metadata": {
        "id": "r7k2emVCb1zh",
        "cellView": "form"
      },
      "execution_count": 24,
      "outputs": []
    },
    {
      "cell_type": "code",
      "source": [
        "tokenizer = GPT2Tokenizer.from_pretrained(model_name)\n",
        "# Load pre-trained model (weights)\n",
        "model = GPT2LMHeadModel.from_pretrained(model_name)"
      ],
      "metadata": {
        "id": "5zQuZbCIZjU2"
      },
      "execution_count": 25,
      "outputs": []
    },
    {
      "cell_type": "code",
      "source": [
        "# The prompt that the AI generates from \n",
        "starting_prompt = \"The\"\n",
        "\n",
        "# Set this to a higher number if you want more leaves and less branches, vice versa.\n",
        "# If you are using the tiny-gpt2 model, set this really close to 1\n",
        "multiplier = 5"
      ],
      "metadata": {
        "id": "Wp8leg8p1JNk"
      },
      "execution_count": 26,
      "outputs": []
    },
    {
      "cell_type": "code",
      "execution_count": 27,
      "metadata": {
        "colab": {
          "base_uri": "https://localhost:8080/"
        },
        "id": "dgOZ2ELDZcgt",
        "outputId": "0656d793-4404-48ab-9d39-38d82b6f5fb6",
        "cellView": "form"
      },
      "outputs": [
        {
          "output_type": "stream",
          "name": "stdout",
          "text": [
            "['The']\n"
          ]
        }
      ],
      "source": [
        "#@title Define the functions\n",
        "parsed_prompt = starting_prompt.split(\" \")\n",
        "print(parsed_prompt)\n",
        "\n",
        "forbidden_tokens = [\"<|endoftext|>\", \"\\n\", \"!\", \".\", \"?\"]\n",
        "\n",
        "class Tree:\n",
        "    def __init__(self, token, probability, depth=1, total_nodes=1):\n",
        "        self.val = token\n",
        "        self.depth = depth\n",
        "        self.total_nodes = total_nodes\n",
        "        self.probability = probability\n",
        "        self.nodes = []\n",
        "    def increase_node_count(self):\n",
        "      self.total_nodes+=1\n",
        "\n",
        "    def add_node(self, token, probability):\n",
        "        self.nodes.append(Tree(token, probability))\n",
        "\n",
        "    def __repr__(self):\n",
        "        return f\"Tree({self.val}, {self.probability}): {self.nodes}\"\n",
        "\n",
        "\n",
        "a = Tree(parsed_prompt[0], 100)\n",
        "\n",
        "def create_tree_prompt(node, index):\n",
        "  if index < len(parsed_prompt):\n",
        "    node.add_node(\" \" + parsed_prompt[index], 100)\n",
        "    a.increase_node_count()\n",
        "    a.depth+=1\n",
        "    index+=1\n",
        "    create_tree_prompt(node.nodes[0], index)\n",
        "\n",
        "create_tree_prompt(a, 1)\n",
        "\n",
        "# Display the tree\n",
        "\n",
        "def display_tree(node, level=0):\n",
        "    print('\\t' * level + (node.val + \" - \" + str(round(node.probability, 2)) + \"%\"))\n",
        "    for child in node.nodes:\n",
        "        display_tree(child, level + 1)\n",
        "\n",
        "\n",
        "def return_token_and_probability(sentence):\n",
        "    # Encode a text inputs\n",
        "    text = \"<|endoftext|>\" + sentence\n",
        "    indexed_tokens = tokenizer.encode(text)\n",
        "\n",
        "    # Convert indexed tokens in a PyTorch tensor\n",
        "    tokens_tensor = torch.tensor([indexed_tokens])\n",
        "\n",
        "    # Set the model in evaluation mode to deactivate the DropOut modules\n",
        "    model.eval()\n",
        "\n",
        "    # If you have a GPU, put everything on cuda\n",
        "    tokens_tensor = tokens_tensor.to('cuda')\n",
        "    model.to('cuda')\n",
        "\n",
        "    # Predict all tokens\n",
        "    with torch.no_grad():\n",
        "        outputs = model(tokens_tensor)\n",
        "        predictions = outputs[0]\n",
        "\n",
        "    # Get the predicted next sub-word\n",
        "\n",
        "    predictions = torch.sort(predictions[0, -1, :], descending=True)\n",
        "    # You can change the range but typically only the first 20ish values matter\n",
        "\n",
        "    predicted_ids = predictions.indices[:100]\n",
        "    predicted_probabilities = predictions.values[:100]\n",
        "    #predicted_index = torch.argmax(predictions[0, -1, :]).item()\n",
        "    predicted_texts = []\n",
        "    for token, probability in zip(predicted_ids, predicted_probabilities):\n",
        "      predicted_texts.append( (tokenizer.decode([token]), math.e ** probability.item()))\n",
        "\n",
        "    total_prob = 0\n",
        "    for log_prob in predicted_texts:\n",
        "      total_prob += log_prob[1]\n",
        "    for index, log_prob in enumerate(predicted_texts):\n",
        "      predicted_texts[index] = (predicted_texts[index][0], (log_prob[1] / total_prob) * 100)\n",
        "\n",
        "    # Print the predicted word\n",
        "    return predicted_texts\n",
        "\n",
        "multiplier = 5\n",
        "\n",
        "def tree_last_layer_add(node, prompt = ''):\n",
        "    prompt = f\"{prompt}{node.val}\"\n",
        "    depth = len(prompt.split())\n",
        "    if node.nodes == [] and depth == a.depth:\n",
        "        to_add = return_token_and_probability(prompt)\n",
        "        highest_probability = max([element[1] for element in to_add]) if to_add else 0\n",
        "        for tup in to_add:\n",
        "            if highest_probability < tup[1] * multiplier and tup[0] not in forbidden_tokens: #Change the 5 to lower numbers for less leaves\n",
        "                node.add_node(tup[0], tup[1])\n",
        "                a.increase_node_count()\n",
        "    else:\n",
        "        for child in node.nodes:\n",
        "            tree_last_layer_add(child, prompt)\n",
        "\n",
        "def tree_generate_n_layers(max_layers):\n",
        "    for i in range(max_layers):\n",
        "        if(i == 0):\n",
        "          multiplier = 5\n",
        "        else:\n",
        "          multiplier = 2\n",
        "        tree_last_layer_add(a)\n",
        "        a.depth+=1\n",
        "        print(\"Total nodes:\", a.total_nodes)\n",
        "        tree_save_as_json(a, ('sentence_tree' + str(a.depth) + \".json\"))\n",
        "def tree_save_as_json(tree, filename):\n",
        "    with open(filename, 'w') as f:\n",
        "        json.dump(to_dict(tree), f)\n",
        "\n",
        "def to_dict(tree):\n",
        "    if tree.nodes:\n",
        "        return {\"name\": tree.val, \"probability\": round(tree.probability, 2), \"size\": 1, \"children\": [to_dict(n) for n in tree.nodes]}\n",
        "    else:\n",
        "        return {\"name\": tree.val, \"probability\": round(tree.probability, 2), \"size\": 1}"
      ]
    },
    {
      "cell_type": "markdown",
      "source": [
        "Run the generation! (it will save as sentence_tree(depth layers).json)\n",
        "\n",
        "---\n",
        "\n",
        "The higher the number for the input, the longer it will take, but it will have more levels.\n"
      ],
      "metadata": {
        "id": "vpAQfIQDVvW0"
      }
    },
    {
      "cell_type": "code",
      "source": [
        "tree_generate_n_layers(5)"
      ],
      "metadata": {
        "colab": {
          "base_uri": "https://localhost:8080/"
        },
        "id": "WQw-Vg0bVuFr",
        "outputId": "e1cb0dad-0ec5-4291-92c5-03d512df839f"
      },
      "execution_count": 28,
      "outputs": [
        {
          "output_type": "stream",
          "name": "stdout",
          "text": [
            "Total nodes: 38\n",
            "Total nodes: 319\n",
            "Total nodes: 1385\n",
            "Total nodes: 6045\n",
            "Total nodes: 29528\n"
          ]
        }
      ]
    },
    {
      "cell_type": "markdown",
      "source": [
        "Congratulations! It finished generating!\n",
        "You now have several JSON files named \"sentence_tree2.json\" or \"sentence_tree3.json\" etc. If you would like to display the JSON in a cool way, check out https://codesandbox.io/s/charming-rubin-unfnm4 then change the \"flare.json\" file to your json (keep the filename)"
      ],
      "metadata": {
        "id": "n16mwBQtXqlx"
      }
    }
  ]
}
